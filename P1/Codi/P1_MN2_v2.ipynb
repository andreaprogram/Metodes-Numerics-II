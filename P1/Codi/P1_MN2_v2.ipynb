{
  "nbformat": 4,
  "nbformat_minor": 0,
  "metadata": {
    "colab": {
      "provenance": []
    },
    "kernelspec": {
      "name": "python3",
      "display_name": "Python 3"
    },
    "language_info": {
      "name": "python"
    }
  },
  "cells": [
    {
      "cell_type": "code",
      "execution_count": null,
      "metadata": {
        "id": "tLvo8BdVxVZ9",
        "colab": {
          "base_uri": "https://localhost:8080/",
          "height": 223
        },
        "outputId": "edc698fc-b4c8-45a1-f2ac-34e224d36990"
      },
      "outputs": [
        {
          "output_type": "error",
          "ename": "TypeError",
          "evalue": "'function' object does not support item assignment",
          "traceback": [
            "\u001b[0;31m---------------------------------------------------------------------------\u001b[0m",
            "\u001b[0;31mTypeError\u001b[0m                                 Traceback (most recent call last)",
            "\u001b[0;32m<ipython-input-7-1d864b11fa9c>\u001b[0m in \u001b[0;36m<cell line: 31>\u001b[0;34m()\u001b[0m\n\u001b[1;32m     29\u001b[0m \u001b[0;31m#j va de 1 a 101\u001b[0m\u001b[0;34m\u001b[0m\u001b[0;34m\u001b[0m\u001b[0m\n\u001b[1;32m     30\u001b[0m \u001b[0;31m# n comença al 1\u001b[0m\u001b[0;34m\u001b[0m\u001b[0;34m\u001b[0m\u001b[0m\n\u001b[0;32m---> 31\u001b[0;31m \u001b[0mT\u001b[0m\u001b[0;34m[\u001b[0m\u001b[0;34m:\u001b[0m\u001b[0;34m,\u001b[0m\u001b[0;36m0\u001b[0m\u001b[0;34m]\u001b[0m\u001b[0;34m=\u001b[0m\u001b[0mT_c\u001b[0m\u001b[0;34m\u001b[0m\u001b[0;34m\u001b[0m\u001b[0m\n\u001b[0m\u001b[1;32m     32\u001b[0m \u001b[0mT\u001b[0m\u001b[0;34m[\u001b[0m\u001b[0;34m:\u001b[0m\u001b[0;34m,\u001b[0m\u001b[0;36m1\u001b[0m\u001b[0;34m]\u001b[0m\u001b[0;34m=\u001b[0m\u001b[0mT_c\u001b[0m\u001b[0;34m\u001b[0m\u001b[0;34m\u001b[0m\u001b[0m\n\u001b[1;32m     33\u001b[0m \u001b[0mT\u001b[0m\u001b[0;34m[\u001b[0m\u001b[0;36m0\u001b[0m\u001b[0;34m,\u001b[0m\u001b[0;36m1\u001b[0m\u001b[0;34m:\u001b[0m\u001b[0;34m-\u001b[0m\u001b[0;36m1\u001b[0m\u001b[0;34m]\u001b[0m\u001b[0;34m=\u001b[0m\u001b[0mT_c\u001b[0m\u001b[0;34m\u001b[0m\u001b[0;34m\u001b[0m\u001b[0m\n",
            "\u001b[0;31mTypeError\u001b[0m: 'function' object does not support item assignment"
          ]
        }
      ],
      "source": [
        "import numpy as np\n",
        "import matplotlib.pyplot as plt\n",
        "#Nº punts maiats espaial\n",
        "N=101\n",
        "\n",
        "T_c=36.5+273.15 #temperatura inicial i de contorn al cos\n",
        "t_a = 0.025 #temps pel que vols T(x,t_a)\n",
        "\n",
        "#Increments en x\n",
        "Dx = 0.01 #delta_x= (1/(101-1))\n",
        "\n",
        "#Gamma = deltat/(deltax)^2\n",
        "gamma_1 = 0.51\n",
        "gamma_2 = 0.49\n",
        "gamma_3 = 0.25\n",
        "\n",
        "gamma=[0.51,0.49,0.25]\n",
        "\n",
        "#Solució analítica\n",
        "N_fourier= int(np.power(10,3))\n",
        "def T(x,t):\n",
        "    sumatori= sum(4*(1-np.exp(-(n**2)*(np.pi**2)*t))*np.sin(n*np.pi*x)/((2*n-1)*(n**2)*(np.pi**2)) for n in range(1,N_fourier))\n",
        "    return T_c+sumatori\n",
        "x = np.linspace(0, 1, 100)\n",
        "t = np.linspace(0, 1, 100)\n",
        "\n",
        "#Euler explícit\n",
        "\n",
        "#j va de 1 a 101\n",
        "# n comença al 1\n",
        "\n",
        "x=np.linspace(0,1,101)\n",
        "\n",
        "Temp_dic= {}\n",
        "for g in gamma:\n",
        "  T=np.ones((int(0.025/((Dx**2)*g))),100)\n",
        "  T[0, :] = T_c  # Fija T_c en la primera fila (condición en el borde izquierdo)\n",
        "  T[-1, :] = T_c  # Fija T_c en la última fila (condición en el borde derecho)\n",
        "  T[:,0] = T_c\n",
        "\n",
        "  for j in range(1,100,1):\n",
        "    for n in range(1,int(0.025/((Dx**2)*g)),1):\n",
        "         T[j,n+1]= g*(T[j+1,n]-2*T[j,n]+T[j-1,n])+g*(Dx**2)-T[j,n-1]\n",
        "\n",
        "  Temp_dic.append(T[:,(int(0.025/((Dx**2)*g)))])\n",
        "\n",
        "plt.plot(x,Temp_dic[0])\n",
        "plt.show()\n",
        "\n",
        "\n",
        "\n",
        "#Euler implícit\n",
        "\n"
      ]
    },
    {
      "cell_type": "code",
      "source": [],
      "metadata": {
        "id": "lQDW6MHCmzgW"
      },
      "execution_count": null,
      "outputs": []
    }
  ]
}
