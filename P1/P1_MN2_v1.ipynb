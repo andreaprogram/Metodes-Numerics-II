{
  "nbformat": 4,
  "nbformat_minor": 0,
  "metadata": {
    "colab": {
      "provenance": []
    },
    "kernelspec": {
      "name": "python3",
      "display_name": "Python 3"
    },
    "language_info": {
      "name": "python"
    }
  },
  "cells": [
    {
      "cell_type": "code",
      "execution_count": 2,
      "metadata": {
        "id": "tLvo8BdVxVZ9"
      },
      "outputs": [],
      "source": [
        "import numpy as np\n",
        "import matplotlib.pyplot as plt\n",
        "#Nº punts maiats espaial\n",
        "N=101\n",
        "\n",
        "T_c=36.5 #temperatura inicial i de contorn al cos\n",
        "t_a = 0.025\n",
        "\n",
        "#Increments en x\n",
        "delta_x = 0.01 #delta_x= (1/(101-1))\n",
        "\n",
        "#Increments en t\n",
        "delta_t1 = 0.51*(delta_x**2)\n",
        "delta_t2 = 0.49*(delta_x**2)\n",
        "delta_t3 = 0.25*(delta_x**2)\n",
        "\n",
        "\n",
        "#Solució analítica\n",
        "N_fourier= int(np.power(10,3))\n",
        "def T(x,t):\n",
        "    sumatori= sum(4*(1-np.exp(-(n**2)*(np.pi**2)*t))*np.sin(n*np.pi*x)/((2*n-1)*(n**2)*(np.pi**2)) for n in range(1,N_fourier))\n",
        "    return T_c+sumatori\n",
        "x = np.linspace(0, 1, 100)\n",
        "t = np.linspace(0, 1, 100)\n",
        "\n",
        "#Euler explícit\n",
        "\n",
        "\n",
        "\n",
        "\n",
        "\n",
        "#Euler implícit\n",
        "\n"
      ]
    }
  ]
}
